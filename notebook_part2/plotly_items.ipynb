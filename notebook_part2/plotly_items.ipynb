{
 "cells": [
  {
   "cell_type": "code",
   "id": "initial_id",
   "metadata": {
    "collapsed": true,
    "ExecuteTime": {
     "end_time": "2024-12-17T06:07:00.717063Z",
     "start_time": "2024-12-17T06:07:00.547685Z"
    }
   },
   "source": [
    "import plotly.graph_objs as go\n",
    "import numpy as np\n",
    "\n",
    "from finance_fns.path_help import get_root_dir, make_filepath_resolver\n",
    "import pandas as pd"
   ],
   "outputs": [],
   "execution_count": 1
  },
  {
   "metadata": {
    "ExecuteTime": {
     "end_time": "2024-12-17T05:59:35.499854Z",
     "start_time": "2024-12-17T05:59:35.495079Z"
    }
   },
   "cell_type": "code",
   "source": [
    "np.random.seed(1)\n",
    "\n",
    "random_x = np.random.randint(500, 2000, 100)\n",
    "random_y = np.random.randint(200, 400, 100)\n",
    "random_x, random_y"
   ],
   "id": "6f60a5d1fc531724",
   "outputs": [
    {
     "data": {
      "text/plain": [
       "(array([1561,  735, 1596, 1405, 1215, 1347, 1460,  644,  629, 1249, 1008,\n",
       "        1914, 1805, 1702, 1800, 1778,  857, 1414,  968, 1407,  752, 1168,\n",
       "         898, 1062, 1080, 1739, 1501, 1253, 1610,  641, 1917, 1531,  819,\n",
       "        1329, 1837, 1013,  816,  709, 1788, 1228, 1127,  931, 1133,  956,\n",
       "        1042, 1595, 1911, 1978, 1837, 1015, 1464, 1292,  997, 1567, 1550,\n",
       "        1860, 1121, 1383, 1821, 1990,  515, 1588,  696,  525, 1891, 1995,\n",
       "        1806, 1546, 1499, 1650, 1803, 1905, 1880,  655, 1433,  813, 1095,\n",
       "        1690, 1148, 1812, 1942, 1803, 1251, 1611,  743, 1872, 1086, 1714,\n",
       "        1826, 1428, 1675, 1195, 1845, 1893, 1396, 1777,  961, 1064,  969,\n",
       "        1978]),\n",
       " array([202, 276, 349, 207, 277, 275, 276, 243, 220, 230, 236, 303, 207,\n",
       "        245, 396, 257, 296, 213, 210, 223, 324, 281, 335, 321, 352, 348,\n",
       "        360, 340, 393, 294, 260, 352, 282, 315, 297, 330, 303, 298, 210,\n",
       "        382, 296, 282, 398, 394, 271, 376, 254, 215, 333, 345, 370, 220,\n",
       "        318, 376, 222, 341, 314, 297, 381, 284, 210, 296, 383, 261, 256,\n",
       "        349, 296, 225, 342, 341, 316, 243, 334, 384, 387, 343, 224, 337,\n",
       "        394, 399, 253, 269, 364, 301, 221, 240, 277, 377, 313, 247, 368,\n",
       "        245, 287, 344, 356, 245, 395, 316, 266, 246]))"
      ]
     },
     "execution_count": 27,
     "metadata": {},
     "output_type": "execute_result"
    }
   ],
   "execution_count": 27
  },
  {
   "metadata": {
    "ExecuteTime": {
     "end_time": "2024-12-17T05:11:29.634878Z",
     "start_time": "2024-12-17T05:11:29.624920Z"
    }
   },
   "cell_type": "code",
   "source": [
    "# 2. Scatter 정의\n",
    "trace = go.Scatter(x=random_x, y=random_y,\n",
    "                   mode='markers', marker={'size': 12, 'symbol': 'pentagon'},\n",
    "                   line={'width': 2})\n",
    "\n",
    "# 3. Layout 정의\n",
    "layout = go.Layout(title='Layout Title',\n",
    "                   xaxis={'title': 'Layout1'},\n",
    "                   yaxis={'title': 'Layout'},\n",
    "                   hovermode='closest')\n",
    "\n",
    "# 4.fig\n",
    "fig = go.Figure(data=trace, layout=layout)\n",
    "\n",
    "# 5. execute\n",
    "fig.show()"
   ],
   "id": "fec136a003ee01eb",
   "outputs": [
    {
     "data": {
      "application/vnd.plotly.v1+json": {
       "data": [
        {
         "line": {
          "width": 2
         },
         "marker": {
          "size": 12,
          "symbol": "pentagon"
         },
         "mode": "markers",
         "x": [
          1561,
          735,
          1596,
          1405,
          1215,
          1347,
          1460,
          644,
          629,
          1249,
          1008,
          1914,
          1805,
          1702,
          1800,
          1778,
          857,
          1414,
          968,
          1407,
          752,
          1168,
          898,
          1062,
          1080,
          1739,
          1501,
          1253,
          1610,
          641,
          1917,
          1531,
          819,
          1329,
          1837,
          1013,
          816,
          709,
          1788,
          1228,
          1127,
          931,
          1133,
          956,
          1042,
          1595,
          1911,
          1978,
          1837,
          1015,
          1464,
          1292,
          997,
          1567,
          1550,
          1860,
          1121,
          1383,
          1821,
          1990,
          515,
          1588,
          696,
          525,
          1891,
          1995,
          1806,
          1546,
          1499,
          1650,
          1803,
          1905,
          1880,
          655,
          1433,
          813,
          1095,
          1690,
          1148,
          1812,
          1942,
          1803,
          1251,
          1611,
          743,
          1872,
          1086,
          1714,
          1826,
          1428,
          1675,
          1195,
          1845,
          1893,
          1396,
          1777,
          961,
          1064,
          969,
          1978
         ],
         "y": [
          202,
          276,
          349,
          207,
          277,
          275,
          276,
          243,
          220,
          230,
          236,
          303,
          207,
          245,
          396,
          257,
          296,
          213,
          210,
          223,
          324,
          281,
          335,
          321,
          352,
          348,
          360,
          340,
          393,
          294,
          260,
          352,
          282,
          315,
          297,
          330,
          303,
          298,
          210,
          382,
          296,
          282,
          398,
          394,
          271,
          376,
          254,
          215,
          333,
          345,
          370,
          220,
          318,
          376,
          222,
          341,
          314,
          297,
          381,
          284,
          210,
          296,
          383,
          261,
          256,
          349,
          296,
          225,
          342,
          341,
          316,
          243,
          334,
          384,
          387,
          343,
          224,
          337,
          394,
          399,
          253,
          269,
          364,
          301,
          221,
          240,
          277,
          377,
          313,
          247,
          368,
          245,
          287,
          344,
          356,
          245,
          395,
          316,
          266,
          246
         ],
         "type": "scatter"
        }
       ],
       "layout": {
        "hovermode": "closest",
        "title": {
         "text": "Layout Title"
        },
        "xaxis": {
         "title": {
          "text": "Layout1"
         }
        },
        "yaxis": {
         "title": {
          "text": "Layout"
         }
        },
        "template": {
         "data": {
          "histogram2dcontour": [
           {
            "type": "histogram2dcontour",
            "colorbar": {
             "outlinewidth": 0,
             "ticks": ""
            },
            "colorscale": [
             [
              0.0,
              "#0d0887"
             ],
             [
              0.1111111111111111,
              "#46039f"
             ],
             [
              0.2222222222222222,
              "#7201a8"
             ],
             [
              0.3333333333333333,
              "#9c179e"
             ],
             [
              0.4444444444444444,
              "#bd3786"
             ],
             [
              0.5555555555555556,
              "#d8576b"
             ],
             [
              0.6666666666666666,
              "#ed7953"
             ],
             [
              0.7777777777777778,
              "#fb9f3a"
             ],
             [
              0.8888888888888888,
              "#fdca26"
             ],
             [
              1.0,
              "#f0f921"
             ]
            ]
           }
          ],
          "choropleth": [
           {
            "type": "choropleth",
            "colorbar": {
             "outlinewidth": 0,
             "ticks": ""
            }
           }
          ],
          "histogram2d": [
           {
            "type": "histogram2d",
            "colorbar": {
             "outlinewidth": 0,
             "ticks": ""
            },
            "colorscale": [
             [
              0.0,
              "#0d0887"
             ],
             [
              0.1111111111111111,
              "#46039f"
             ],
             [
              0.2222222222222222,
              "#7201a8"
             ],
             [
              0.3333333333333333,
              "#9c179e"
             ],
             [
              0.4444444444444444,
              "#bd3786"
             ],
             [
              0.5555555555555556,
              "#d8576b"
             ],
             [
              0.6666666666666666,
              "#ed7953"
             ],
             [
              0.7777777777777778,
              "#fb9f3a"
             ],
             [
              0.8888888888888888,
              "#fdca26"
             ],
             [
              1.0,
              "#f0f921"
             ]
            ]
           }
          ],
          "heatmap": [
           {
            "type": "heatmap",
            "colorbar": {
             "outlinewidth": 0,
             "ticks": ""
            },
            "colorscale": [
             [
              0.0,
              "#0d0887"
             ],
             [
              0.1111111111111111,
              "#46039f"
             ],
             [
              0.2222222222222222,
              "#7201a8"
             ],
             [
              0.3333333333333333,
              "#9c179e"
             ],
             [
              0.4444444444444444,
              "#bd3786"
             ],
             [
              0.5555555555555556,
              "#d8576b"
             ],
             [
              0.6666666666666666,
              "#ed7953"
             ],
             [
              0.7777777777777778,
              "#fb9f3a"
             ],
             [
              0.8888888888888888,
              "#fdca26"
             ],
             [
              1.0,
              "#f0f921"
             ]
            ]
           }
          ],
          "heatmapgl": [
           {
            "type": "heatmapgl",
            "colorbar": {
             "outlinewidth": 0,
             "ticks": ""
            },
            "colorscale": [
             [
              0.0,
              "#0d0887"
             ],
             [
              0.1111111111111111,
              "#46039f"
             ],
             [
              0.2222222222222222,
              "#7201a8"
             ],
             [
              0.3333333333333333,
              "#9c179e"
             ],
             [
              0.4444444444444444,
              "#bd3786"
             ],
             [
              0.5555555555555556,
              "#d8576b"
             ],
             [
              0.6666666666666666,
              "#ed7953"
             ],
             [
              0.7777777777777778,
              "#fb9f3a"
             ],
             [
              0.8888888888888888,
              "#fdca26"
             ],
             [
              1.0,
              "#f0f921"
             ]
            ]
           }
          ],
          "contourcarpet": [
           {
            "type": "contourcarpet",
            "colorbar": {
             "outlinewidth": 0,
             "ticks": ""
            }
           }
          ],
          "contour": [
           {
            "type": "contour",
            "colorbar": {
             "outlinewidth": 0,
             "ticks": ""
            },
            "colorscale": [
             [
              0.0,
              "#0d0887"
             ],
             [
              0.1111111111111111,
              "#46039f"
             ],
             [
              0.2222222222222222,
              "#7201a8"
             ],
             [
              0.3333333333333333,
              "#9c179e"
             ],
             [
              0.4444444444444444,
              "#bd3786"
             ],
             [
              0.5555555555555556,
              "#d8576b"
             ],
             [
              0.6666666666666666,
              "#ed7953"
             ],
             [
              0.7777777777777778,
              "#fb9f3a"
             ],
             [
              0.8888888888888888,
              "#fdca26"
             ],
             [
              1.0,
              "#f0f921"
             ]
            ]
           }
          ],
          "surface": [
           {
            "type": "surface",
            "colorbar": {
             "outlinewidth": 0,
             "ticks": ""
            },
            "colorscale": [
             [
              0.0,
              "#0d0887"
             ],
             [
              0.1111111111111111,
              "#46039f"
             ],
             [
              0.2222222222222222,
              "#7201a8"
             ],
             [
              0.3333333333333333,
              "#9c179e"
             ],
             [
              0.4444444444444444,
              "#bd3786"
             ],
             [
              0.5555555555555556,
              "#d8576b"
             ],
             [
              0.6666666666666666,
              "#ed7953"
             ],
             [
              0.7777777777777778,
              "#fb9f3a"
             ],
             [
              0.8888888888888888,
              "#fdca26"
             ],
             [
              1.0,
              "#f0f921"
             ]
            ]
           }
          ],
          "mesh3d": [
           {
            "type": "mesh3d",
            "colorbar": {
             "outlinewidth": 0,
             "ticks": ""
            }
           }
          ],
          "scatter": [
           {
            "marker": {
             "line": {
              "color": "#283442"
             }
            },
            "type": "scatter"
           }
          ],
          "parcoords": [
           {
            "type": "parcoords",
            "line": {
             "colorbar": {
              "outlinewidth": 0,
              "ticks": ""
             }
            }
           }
          ],
          "scatterpolargl": [
           {
            "type": "scatterpolargl",
            "marker": {
             "colorbar": {
              "outlinewidth": 0,
              "ticks": ""
             }
            }
           }
          ],
          "bar": [
           {
            "error_x": {
             "color": "#f2f5fa"
            },
            "error_y": {
             "color": "#f2f5fa"
            },
            "marker": {
             "line": {
              "color": "rgb(17,17,17)",
              "width": 0.5
             },
             "pattern": {
              "fillmode": "overlay",
              "size": 10,
              "solidity": 0.2
             }
            },
            "type": "bar"
           }
          ],
          "scattergeo": [
           {
            "type": "scattergeo",
            "marker": {
             "colorbar": {
              "outlinewidth": 0,
              "ticks": ""
             }
            }
           }
          ],
          "scatterpolar": [
           {
            "type": "scatterpolar",
            "marker": {
             "colorbar": {
              "outlinewidth": 0,
              "ticks": ""
             }
            }
           }
          ],
          "histogram": [
           {
            "marker": {
             "pattern": {
              "fillmode": "overlay",
              "size": 10,
              "solidity": 0.2
             }
            },
            "type": "histogram"
           }
          ],
          "scattergl": [
           {
            "marker": {
             "line": {
              "color": "#283442"
             }
            },
            "type": "scattergl"
           }
          ],
          "scatter3d": [
           {
            "type": "scatter3d",
            "line": {
             "colorbar": {
              "outlinewidth": 0,
              "ticks": ""
             }
            },
            "marker": {
             "colorbar": {
              "outlinewidth": 0,
              "ticks": ""
             }
            }
           }
          ],
          "scattermapbox": [
           {
            "type": "scattermapbox",
            "marker": {
             "colorbar": {
              "outlinewidth": 0,
              "ticks": ""
             }
            }
           }
          ],
          "scatterternary": [
           {
            "type": "scatterternary",
            "marker": {
             "colorbar": {
              "outlinewidth": 0,
              "ticks": ""
             }
            }
           }
          ],
          "scattercarpet": [
           {
            "type": "scattercarpet",
            "marker": {
             "colorbar": {
              "outlinewidth": 0,
              "ticks": ""
             }
            }
           }
          ],
          "carpet": [
           {
            "aaxis": {
             "endlinecolor": "#A2B1C6",
             "gridcolor": "#506784",
             "linecolor": "#506784",
             "minorgridcolor": "#506784",
             "startlinecolor": "#A2B1C6"
            },
            "baxis": {
             "endlinecolor": "#A2B1C6",
             "gridcolor": "#506784",
             "linecolor": "#506784",
             "minorgridcolor": "#506784",
             "startlinecolor": "#A2B1C6"
            },
            "type": "carpet"
           }
          ],
          "table": [
           {
            "cells": {
             "fill": {
              "color": "#506784"
             },
             "line": {
              "color": "rgb(17,17,17)"
             }
            },
            "header": {
             "fill": {
              "color": "#2a3f5f"
             },
             "line": {
              "color": "rgb(17,17,17)"
             }
            },
            "type": "table"
           }
          ],
          "barpolar": [
           {
            "marker": {
             "line": {
              "color": "rgb(17,17,17)",
              "width": 0.5
             },
             "pattern": {
              "fillmode": "overlay",
              "size": 10,
              "solidity": 0.2
             }
            },
            "type": "barpolar"
           }
          ],
          "pie": [
           {
            "automargin": true,
            "type": "pie"
           }
          ]
         },
         "layout": {
          "autotypenumbers": "strict",
          "colorway": [
           "#636efa",
           "#EF553B",
           "#00cc96",
           "#ab63fa",
           "#FFA15A",
           "#19d3f3",
           "#FF6692",
           "#B6E880",
           "#FF97FF",
           "#FECB52"
          ],
          "font": {
           "color": "#f2f5fa"
          },
          "hovermode": "closest",
          "hoverlabel": {
           "align": "left"
          },
          "paper_bgcolor": "rgb(17,17,17)",
          "plot_bgcolor": "rgb(17,17,17)",
          "polar": {
           "bgcolor": "rgb(17,17,17)",
           "angularaxis": {
            "gridcolor": "#506784",
            "linecolor": "#506784",
            "ticks": ""
           },
           "radialaxis": {
            "gridcolor": "#506784",
            "linecolor": "#506784",
            "ticks": ""
           }
          },
          "ternary": {
           "bgcolor": "rgb(17,17,17)",
           "aaxis": {
            "gridcolor": "#506784",
            "linecolor": "#506784",
            "ticks": ""
           },
           "baxis": {
            "gridcolor": "#506784",
            "linecolor": "#506784",
            "ticks": ""
           },
           "caxis": {
            "gridcolor": "#506784",
            "linecolor": "#506784",
            "ticks": ""
           }
          },
          "coloraxis": {
           "colorbar": {
            "outlinewidth": 0,
            "ticks": ""
           }
          },
          "colorscale": {
           "sequential": [
            [
             0.0,
             "#0d0887"
            ],
            [
             0.1111111111111111,
             "#46039f"
            ],
            [
             0.2222222222222222,
             "#7201a8"
            ],
            [
             0.3333333333333333,
             "#9c179e"
            ],
            [
             0.4444444444444444,
             "#bd3786"
            ],
            [
             0.5555555555555556,
             "#d8576b"
            ],
            [
             0.6666666666666666,
             "#ed7953"
            ],
            [
             0.7777777777777778,
             "#fb9f3a"
            ],
            [
             0.8888888888888888,
             "#fdca26"
            ],
            [
             1.0,
             "#f0f921"
            ]
           ],
           "sequentialminus": [
            [
             0.0,
             "#0d0887"
            ],
            [
             0.1111111111111111,
             "#46039f"
            ],
            [
             0.2222222222222222,
             "#7201a8"
            ],
            [
             0.3333333333333333,
             "#9c179e"
            ],
            [
             0.4444444444444444,
             "#bd3786"
            ],
            [
             0.5555555555555556,
             "#d8576b"
            ],
            [
             0.6666666666666666,
             "#ed7953"
            ],
            [
             0.7777777777777778,
             "#fb9f3a"
            ],
            [
             0.8888888888888888,
             "#fdca26"
            ],
            [
             1.0,
             "#f0f921"
            ]
           ],
           "diverging": [
            [
             0,
             "#8e0152"
            ],
            [
             0.1,
             "#c51b7d"
            ],
            [
             0.2,
             "#de77ae"
            ],
            [
             0.3,
             "#f1b6da"
            ],
            [
             0.4,
             "#fde0ef"
            ],
            [
             0.5,
             "#f7f7f7"
            ],
            [
             0.6,
             "#e6f5d0"
            ],
            [
             0.7,
             "#b8e186"
            ],
            [
             0.8,
             "#7fbc41"
            ],
            [
             0.9,
             "#4d9221"
            ],
            [
             1,
             "#276419"
            ]
           ]
          },
          "xaxis": {
           "gridcolor": "#283442",
           "linecolor": "#506784",
           "ticks": "",
           "title": {
            "standoff": 15
           },
           "zerolinecolor": "#283442",
           "automargin": true,
           "zerolinewidth": 2
          },
          "yaxis": {
           "gridcolor": "#283442",
           "linecolor": "#506784",
           "ticks": "",
           "title": {
            "standoff": 15
           },
           "zerolinecolor": "#283442",
           "automargin": true,
           "zerolinewidth": 2
          },
          "scene": {
           "xaxis": {
            "backgroundcolor": "rgb(17,17,17)",
            "gridcolor": "#506784",
            "linecolor": "#506784",
            "showbackground": true,
            "ticks": "",
            "zerolinecolor": "#C8D4E3",
            "gridwidth": 2
           },
           "yaxis": {
            "backgroundcolor": "rgb(17,17,17)",
            "gridcolor": "#506784",
            "linecolor": "#506784",
            "showbackground": true,
            "ticks": "",
            "zerolinecolor": "#C8D4E3",
            "gridwidth": 2
           },
           "zaxis": {
            "backgroundcolor": "rgb(17,17,17)",
            "gridcolor": "#506784",
            "linecolor": "#506784",
            "showbackground": true,
            "ticks": "",
            "zerolinecolor": "#C8D4E3",
            "gridwidth": 2
           }
          },
          "shapedefaults": {
           "line": {
            "color": "#f2f5fa"
           }
          },
          "annotationdefaults": {
           "arrowcolor": "#f2f5fa",
           "arrowhead": 0,
           "arrowwidth": 1
          },
          "geo": {
           "bgcolor": "rgb(17,17,17)",
           "landcolor": "rgb(17,17,17)",
           "subunitcolor": "#506784",
           "showland": true,
           "showlakes": true,
           "lakecolor": "rgb(17,17,17)"
          },
          "title": {
           "x": 0.05
          },
          "updatemenudefaults": {
           "bgcolor": "#506784",
           "borderwidth": 0
          },
          "sliderdefaults": {
           "bgcolor": "#C8D4E3",
           "borderwidth": 1,
           "bordercolor": "rgb(17,17,17)",
           "tickwidth": 0
          },
          "mapbox": {
           "style": "dark"
          }
         }
        }
       },
       "config": {
        "plotlyServerURL": "https://plot.ly"
       }
      },
      "text/html": [
       "<div>                            <div id=\"7dda850d-9217-481c-8fcf-cb647cc7fe30\" class=\"plotly-graph-div\" style=\"height:525px; width:100%;\"></div>            <script type=\"text/javascript\">                require([\"plotly\"], function(Plotly) {                    window.PLOTLYENV=window.PLOTLYENV || {};                                    if (document.getElementById(\"7dda850d-9217-481c-8fcf-cb647cc7fe30\")) {                    Plotly.newPlot(                        \"7dda850d-9217-481c-8fcf-cb647cc7fe30\",                        [{\"line\":{\"width\":2},\"marker\":{\"size\":12,\"symbol\":\"pentagon\"},\"mode\":\"markers\",\"x\":[1561,735,1596,1405,1215,1347,1460,644,629,1249,1008,1914,1805,1702,1800,1778,857,1414,968,1407,752,1168,898,1062,1080,1739,1501,1253,1610,641,1917,1531,819,1329,1837,1013,816,709,1788,1228,1127,931,1133,956,1042,1595,1911,1978,1837,1015,1464,1292,997,1567,1550,1860,1121,1383,1821,1990,515,1588,696,525,1891,1995,1806,1546,1499,1650,1803,1905,1880,655,1433,813,1095,1690,1148,1812,1942,1803,1251,1611,743,1872,1086,1714,1826,1428,1675,1195,1845,1893,1396,1777,961,1064,969,1978],\"y\":[202,276,349,207,277,275,276,243,220,230,236,303,207,245,396,257,296,213,210,223,324,281,335,321,352,348,360,340,393,294,260,352,282,315,297,330,303,298,210,382,296,282,398,394,271,376,254,215,333,345,370,220,318,376,222,341,314,297,381,284,210,296,383,261,256,349,296,225,342,341,316,243,334,384,387,343,224,337,394,399,253,269,364,301,221,240,277,377,313,247,368,245,287,344,356,245,395,316,266,246],\"type\":\"scatter\"}],                        {\"hovermode\":\"closest\",\"title\":{\"text\":\"Layout Title\"},\"xaxis\":{\"title\":{\"text\":\"Layout1\"}},\"yaxis\":{\"title\":{\"text\":\"Layout\"}},\"template\":{\"data\":{\"histogram2dcontour\":[{\"type\":\"histogram2dcontour\",\"colorbar\":{\"outlinewidth\":0,\"ticks\":\"\"},\"colorscale\":[[0.0,\"#0d0887\"],[0.1111111111111111,\"#46039f\"],[0.2222222222222222,\"#7201a8\"],[0.3333333333333333,\"#9c179e\"],[0.4444444444444444,\"#bd3786\"],[0.5555555555555556,\"#d8576b\"],[0.6666666666666666,\"#ed7953\"],[0.7777777777777778,\"#fb9f3a\"],[0.8888888888888888,\"#fdca26\"],[1.0,\"#f0f921\"]]}],\"choropleth\":[{\"type\":\"choropleth\",\"colorbar\":{\"outlinewidth\":0,\"ticks\":\"\"}}],\"histogram2d\":[{\"type\":\"histogram2d\",\"colorbar\":{\"outlinewidth\":0,\"ticks\":\"\"},\"colorscale\":[[0.0,\"#0d0887\"],[0.1111111111111111,\"#46039f\"],[0.2222222222222222,\"#7201a8\"],[0.3333333333333333,\"#9c179e\"],[0.4444444444444444,\"#bd3786\"],[0.5555555555555556,\"#d8576b\"],[0.6666666666666666,\"#ed7953\"],[0.7777777777777778,\"#fb9f3a\"],[0.8888888888888888,\"#fdca26\"],[1.0,\"#f0f921\"]]}],\"heatmap\":[{\"type\":\"heatmap\",\"colorbar\":{\"outlinewidth\":0,\"ticks\":\"\"},\"colorscale\":[[0.0,\"#0d0887\"],[0.1111111111111111,\"#46039f\"],[0.2222222222222222,\"#7201a8\"],[0.3333333333333333,\"#9c179e\"],[0.4444444444444444,\"#bd3786\"],[0.5555555555555556,\"#d8576b\"],[0.6666666666666666,\"#ed7953\"],[0.7777777777777778,\"#fb9f3a\"],[0.8888888888888888,\"#fdca26\"],[1.0,\"#f0f921\"]]}],\"heatmapgl\":[{\"type\":\"heatmapgl\",\"colorbar\":{\"outlinewidth\":0,\"ticks\":\"\"},\"colorscale\":[[0.0,\"#0d0887\"],[0.1111111111111111,\"#46039f\"],[0.2222222222222222,\"#7201a8\"],[0.3333333333333333,\"#9c179e\"],[0.4444444444444444,\"#bd3786\"],[0.5555555555555556,\"#d8576b\"],[0.6666666666666666,\"#ed7953\"],[0.7777777777777778,\"#fb9f3a\"],[0.8888888888888888,\"#fdca26\"],[1.0,\"#f0f921\"]]}],\"contourcarpet\":[{\"type\":\"contourcarpet\",\"colorbar\":{\"outlinewidth\":0,\"ticks\":\"\"}}],\"contour\":[{\"type\":\"contour\",\"colorbar\":{\"outlinewidth\":0,\"ticks\":\"\"},\"colorscale\":[[0.0,\"#0d0887\"],[0.1111111111111111,\"#46039f\"],[0.2222222222222222,\"#7201a8\"],[0.3333333333333333,\"#9c179e\"],[0.4444444444444444,\"#bd3786\"],[0.5555555555555556,\"#d8576b\"],[0.6666666666666666,\"#ed7953\"],[0.7777777777777778,\"#fb9f3a\"],[0.8888888888888888,\"#fdca26\"],[1.0,\"#f0f921\"]]}],\"surface\":[{\"type\":\"surface\",\"colorbar\":{\"outlinewidth\":0,\"ticks\":\"\"},\"colorscale\":[[0.0,\"#0d0887\"],[0.1111111111111111,\"#46039f\"],[0.2222222222222222,\"#7201a8\"],[0.3333333333333333,\"#9c179e\"],[0.4444444444444444,\"#bd3786\"],[0.5555555555555556,\"#d8576b\"],[0.6666666666666666,\"#ed7953\"],[0.7777777777777778,\"#fb9f3a\"],[0.8888888888888888,\"#fdca26\"],[1.0,\"#f0f921\"]]}],\"mesh3d\":[{\"type\":\"mesh3d\",\"colorbar\":{\"outlinewidth\":0,\"ticks\":\"\"}}],\"scatter\":[{\"marker\":{\"line\":{\"color\":\"#283442\"}},\"type\":\"scatter\"}],\"parcoords\":[{\"type\":\"parcoords\",\"line\":{\"colorbar\":{\"outlinewidth\":0,\"ticks\":\"\"}}}],\"scatterpolargl\":[{\"type\":\"scatterpolargl\",\"marker\":{\"colorbar\":{\"outlinewidth\":0,\"ticks\":\"\"}}}],\"bar\":[{\"error_x\":{\"color\":\"#f2f5fa\"},\"error_y\":{\"color\":\"#f2f5fa\"},\"marker\":{\"line\":{\"color\":\"rgb(17,17,17)\",\"width\":0.5},\"pattern\":{\"fillmode\":\"overlay\",\"size\":10,\"solidity\":0.2}},\"type\":\"bar\"}],\"scattergeo\":[{\"type\":\"scattergeo\",\"marker\":{\"colorbar\":{\"outlinewidth\":0,\"ticks\":\"\"}}}],\"scatterpolar\":[{\"type\":\"scatterpolar\",\"marker\":{\"colorbar\":{\"outlinewidth\":0,\"ticks\":\"\"}}}],\"histogram\":[{\"marker\":{\"pattern\":{\"fillmode\":\"overlay\",\"size\":10,\"solidity\":0.2}},\"type\":\"histogram\"}],\"scattergl\":[{\"marker\":{\"line\":{\"color\":\"#283442\"}},\"type\":\"scattergl\"}],\"scatter3d\":[{\"type\":\"scatter3d\",\"line\":{\"colorbar\":{\"outlinewidth\":0,\"ticks\":\"\"}},\"marker\":{\"colorbar\":{\"outlinewidth\":0,\"ticks\":\"\"}}}],\"scattermapbox\":[{\"type\":\"scattermapbox\",\"marker\":{\"colorbar\":{\"outlinewidth\":0,\"ticks\":\"\"}}}],\"scatterternary\":[{\"type\":\"scatterternary\",\"marker\":{\"colorbar\":{\"outlinewidth\":0,\"ticks\":\"\"}}}],\"scattercarpet\":[{\"type\":\"scattercarpet\",\"marker\":{\"colorbar\":{\"outlinewidth\":0,\"ticks\":\"\"}}}],\"carpet\":[{\"aaxis\":{\"endlinecolor\":\"#A2B1C6\",\"gridcolor\":\"#506784\",\"linecolor\":\"#506784\",\"minorgridcolor\":\"#506784\",\"startlinecolor\":\"#A2B1C6\"},\"baxis\":{\"endlinecolor\":\"#A2B1C6\",\"gridcolor\":\"#506784\",\"linecolor\":\"#506784\",\"minorgridcolor\":\"#506784\",\"startlinecolor\":\"#A2B1C6\"},\"type\":\"carpet\"}],\"table\":[{\"cells\":{\"fill\":{\"color\":\"#506784\"},\"line\":{\"color\":\"rgb(17,17,17)\"}},\"header\":{\"fill\":{\"color\":\"#2a3f5f\"},\"line\":{\"color\":\"rgb(17,17,17)\"}},\"type\":\"table\"}],\"barpolar\":[{\"marker\":{\"line\":{\"color\":\"rgb(17,17,17)\",\"width\":0.5},\"pattern\":{\"fillmode\":\"overlay\",\"size\":10,\"solidity\":0.2}},\"type\":\"barpolar\"}],\"pie\":[{\"automargin\":true,\"type\":\"pie\"}]},\"layout\":{\"autotypenumbers\":\"strict\",\"colorway\":[\"#636efa\",\"#EF553B\",\"#00cc96\",\"#ab63fa\",\"#FFA15A\",\"#19d3f3\",\"#FF6692\",\"#B6E880\",\"#FF97FF\",\"#FECB52\"],\"font\":{\"color\":\"#f2f5fa\"},\"hovermode\":\"closest\",\"hoverlabel\":{\"align\":\"left\"},\"paper_bgcolor\":\"rgb(17,17,17)\",\"plot_bgcolor\":\"rgb(17,17,17)\",\"polar\":{\"bgcolor\":\"rgb(17,17,17)\",\"angularaxis\":{\"gridcolor\":\"#506784\",\"linecolor\":\"#506784\",\"ticks\":\"\"},\"radialaxis\":{\"gridcolor\":\"#506784\",\"linecolor\":\"#506784\",\"ticks\":\"\"}},\"ternary\":{\"bgcolor\":\"rgb(17,17,17)\",\"aaxis\":{\"gridcolor\":\"#506784\",\"linecolor\":\"#506784\",\"ticks\":\"\"},\"baxis\":{\"gridcolor\":\"#506784\",\"linecolor\":\"#506784\",\"ticks\":\"\"},\"caxis\":{\"gridcolor\":\"#506784\",\"linecolor\":\"#506784\",\"ticks\":\"\"}},\"coloraxis\":{\"colorbar\":{\"outlinewidth\":0,\"ticks\":\"\"}},\"colorscale\":{\"sequential\":[[0.0,\"#0d0887\"],[0.1111111111111111,\"#46039f\"],[0.2222222222222222,\"#7201a8\"],[0.3333333333333333,\"#9c179e\"],[0.4444444444444444,\"#bd3786\"],[0.5555555555555556,\"#d8576b\"],[0.6666666666666666,\"#ed7953\"],[0.7777777777777778,\"#fb9f3a\"],[0.8888888888888888,\"#fdca26\"],[1.0,\"#f0f921\"]],\"sequentialminus\":[[0.0,\"#0d0887\"],[0.1111111111111111,\"#46039f\"],[0.2222222222222222,\"#7201a8\"],[0.3333333333333333,\"#9c179e\"],[0.4444444444444444,\"#bd3786\"],[0.5555555555555556,\"#d8576b\"],[0.6666666666666666,\"#ed7953\"],[0.7777777777777778,\"#fb9f3a\"],[0.8888888888888888,\"#fdca26\"],[1.0,\"#f0f921\"]],\"diverging\":[[0,\"#8e0152\"],[0.1,\"#c51b7d\"],[0.2,\"#de77ae\"],[0.3,\"#f1b6da\"],[0.4,\"#fde0ef\"],[0.5,\"#f7f7f7\"],[0.6,\"#e6f5d0\"],[0.7,\"#b8e186\"],[0.8,\"#7fbc41\"],[0.9,\"#4d9221\"],[1,\"#276419\"]]},\"xaxis\":{\"gridcolor\":\"#283442\",\"linecolor\":\"#506784\",\"ticks\":\"\",\"title\":{\"standoff\":15},\"zerolinecolor\":\"#283442\",\"automargin\":true,\"zerolinewidth\":2},\"yaxis\":{\"gridcolor\":\"#283442\",\"linecolor\":\"#506784\",\"ticks\":\"\",\"title\":{\"standoff\":15},\"zerolinecolor\":\"#283442\",\"automargin\":true,\"zerolinewidth\":2},\"scene\":{\"xaxis\":{\"backgroundcolor\":\"rgb(17,17,17)\",\"gridcolor\":\"#506784\",\"linecolor\":\"#506784\",\"showbackground\":true,\"ticks\":\"\",\"zerolinecolor\":\"#C8D4E3\",\"gridwidth\":2},\"yaxis\":{\"backgroundcolor\":\"rgb(17,17,17)\",\"gridcolor\":\"#506784\",\"linecolor\":\"#506784\",\"showbackground\":true,\"ticks\":\"\",\"zerolinecolor\":\"#C8D4E3\",\"gridwidth\":2},\"zaxis\":{\"backgroundcolor\":\"rgb(17,17,17)\",\"gridcolor\":\"#506784\",\"linecolor\":\"#506784\",\"showbackground\":true,\"ticks\":\"\",\"zerolinecolor\":\"#C8D4E3\",\"gridwidth\":2}},\"shapedefaults\":{\"line\":{\"color\":\"#f2f5fa\"}},\"annotationdefaults\":{\"arrowcolor\":\"#f2f5fa\",\"arrowhead\":0,\"arrowwidth\":1},\"geo\":{\"bgcolor\":\"rgb(17,17,17)\",\"landcolor\":\"rgb(17,17,17)\",\"subunitcolor\":\"#506784\",\"showland\":true,\"showlakes\":true,\"lakecolor\":\"rgb(17,17,17)\"},\"title\":{\"x\":0.05},\"updatemenudefaults\":{\"bgcolor\":\"#506784\",\"borderwidth\":0},\"sliderdefaults\":{\"bgcolor\":\"#C8D4E3\",\"borderwidth\":1,\"bordercolor\":\"rgb(17,17,17)\",\"tickwidth\":0},\"mapbox\":{\"style\":\"dark\"}}}},                        {\"responsive\": true}                    ).then(function(){\n",
       "                            \n",
       "var gd = document.getElementById('7dda850d-9217-481c-8fcf-cb647cc7fe30');\n",
       "var x = new MutationObserver(function (mutations, observer) {{\n",
       "        var display = window.getComputedStyle(gd).display;\n",
       "        if (!display || display === 'none') {{\n",
       "            console.log([gd, 'removed!']);\n",
       "            Plotly.purge(gd);\n",
       "            observer.disconnect();\n",
       "        }}\n",
       "}});\n",
       "\n",
       "// Listen for the removal of the full notebook cells\n",
       "var notebookContainer = gd.closest('#notebook-container');\n",
       "if (notebookContainer) {{\n",
       "    x.observe(notebookContainer, {childList: true});\n",
       "}}\n",
       "\n",
       "// Listen for the clearing of the current output cell\n",
       "var outputEl = gd.closest('.output');\n",
       "if (outputEl) {{\n",
       "    x.observe(outputEl, {childList: true});\n",
       "}}\n",
       "\n",
       "                        })                };                });            </script>        </div>"
      ]
     },
     "metadata": {},
     "output_type": "display_data"
    }
   ],
   "execution_count": 10
  },
  {
   "metadata": {
    "ExecuteTime": {
     "end_time": "2024-12-17T06:07:07.173625Z",
     "start_time": "2024-12-17T06:07:05.299528Z"
    }
   },
   "cell_type": "code",
   "source": [
    "\n",
    "find_path = make_filepath_resolver(get_root_dir)\n",
    "\n",
    "file_path = 'db/df_etf.xlsx'\n",
    "\n",
    "current_filepath = find_path('data_trading', file_path)\n",
    "\n",
    "df = pd.read_excel(current_filepath, index_col=0)\n",
    "df"
   ],
   "id": "2aacb93cd022fc64",
   "outputs": [
    {
     "data": {
      "text/plain": [
       "            ARIRANG 200  ARIRANG 200동일가중  ARIRANG 200선물레버리지  \\\n",
       "Date                                                          \n",
       "2012-01-10        20817              NaN                NaN   \n",
       "2012-01-11        20695              NaN                NaN   \n",
       "2012-01-12        20893              NaN                NaN   \n",
       "2012-01-13        21042              NaN                NaN   \n",
       "2012-01-16        20903              NaN                NaN   \n",
       "...                 ...              ...                ...   \n",
       "2022-03-28        37440          10910.0            36140.0   \n",
       "2022-03-29        37615          10905.0            36510.0   \n",
       "2022-03-30        37780          10930.0            36810.0   \n",
       "2022-03-31        37845          11035.0            37005.0   \n",
       "2022-04-01        37580          11000.0            36525.0   \n",
       "\n",
       "            ARIRANG 200선물인버스2X  ARIRANG ESG가치주액티브  ARIRANG ESG성장주액티브  \\\n",
       "Date                                                                   \n",
       "2012-01-10                 NaN                NaN                NaN   \n",
       "2012-01-11                 NaN                NaN                NaN   \n",
       "2012-01-12                 NaN                NaN                NaN   \n",
       "2012-01-13                 NaN                NaN                NaN   \n",
       "2012-01-16                 NaN                NaN                NaN   \n",
       "...                        ...                ...                ...   \n",
       "2022-03-28              5010.0             8930.0             8775.0   \n",
       "2022-03-29              4955.0             8930.0             8820.0   \n",
       "2022-03-30              4925.0             8975.0             8855.0   \n",
       "2022-03-31              4870.0             9015.0             8880.0   \n",
       "2022-04-01              4960.0             8940.0             8825.0   \n",
       "\n",
       "            ARIRANG ESG우수기업  ARIRANG KRX300  ARIRANG KRX300헬스케어  \\\n",
       "Date                                                              \n",
       "2012-01-10              NaN             NaN                 NaN   \n",
       "2012-01-11              NaN             NaN                 NaN   \n",
       "2012-01-12              NaN             NaN                 NaN   \n",
       "2012-01-13              NaN             NaN                 NaN   \n",
       "2012-01-16              NaN             NaN                 NaN   \n",
       "...                     ...             ...                 ...   \n",
       "2022-03-28           9400.0         16960.0              9450.0   \n",
       "2022-03-29           9370.0         16990.0              9550.0   \n",
       "2022-03-30           9310.0         17125.0              9660.0   \n",
       "2022-03-31           9390.0         17180.0              9545.0   \n",
       "2022-04-01           9400.0         17075.0              9415.0   \n",
       "\n",
       "            ARIRANG KS로우볼가중TR  ...  KODEX 코스피100  KODEX 코스피TR  KODEX 코스피대형주  \\\n",
       "Date                           ...                                            \n",
       "2012-01-10                NaN  ...           NaN          NaN           NaN   \n",
       "2012-01-11                NaN  ...           NaN          NaN           NaN   \n",
       "2012-01-12                NaN  ...           NaN          NaN           NaN   \n",
       "2012-01-13                NaN  ...           NaN          NaN           NaN   \n",
       "2012-01-16                NaN  ...           NaN          NaN           NaN   \n",
       "...                       ...  ...           ...          ...           ...   \n",
       "2022-03-28            13105.0  ...       28150.0      12805.0       13035.0   \n",
       "2022-03-29            13160.0  ...       28235.0      12860.0       13110.0   \n",
       "2022-03-30            13150.0  ...       28340.0      12925.0       13185.0   \n",
       "2022-03-31            13230.0  ...       28390.0      13000.0       13220.0   \n",
       "2022-04-01            13170.0  ...       28285.0      12890.0       13105.0   \n",
       "\n",
       "            KODEX 콩선물(H)  KODEX 퀄리티Plus  KODEX 탄소효율그린뉴딜  KODEX 필수소비재  \\\n",
       "Date                                                                   \n",
       "2012-01-10          9030            NaN             NaN          NaN   \n",
       "2012-01-11          9010            NaN             NaN          NaN   \n",
       "2012-01-12          8835            NaN             NaN          NaN   \n",
       "2012-01-13          8720            NaN             NaN          NaN   \n",
       "2012-01-16          8510            NaN             NaN          NaN   \n",
       "...                  ...            ...             ...          ...   \n",
       "2022-03-28         14770        10120.0          8945.0       7865.0   \n",
       "2022-03-29         14465        10135.0          8985.0       7965.0   \n",
       "2022-03-30         14400        10195.0          9015.0       7965.0   \n",
       "2022-03-31         14405        10195.0          9075.0       7960.0   \n",
       "2022-04-01         13940        10200.0          9020.0       8115.0   \n",
       "\n",
       "            KODEX 한국대만IT프리미어  KODEX 헬스케어  KODEX 혁신기술테마액티브  \n",
       "Date                                                       \n",
       "2012-01-10               NaN         NaN              NaN  \n",
       "2012-01-11               NaN         NaN              NaN  \n",
       "2012-01-12               NaN         NaN              NaN  \n",
       "2012-01-13               NaN         NaN              NaN  \n",
       "2012-01-16               NaN         NaN              NaN  \n",
       "...                      ...         ...              ...  \n",
       "2022-03-28           19400.0     13680.0          12280.0  \n",
       "2022-03-29           19385.0     13850.0          12260.0  \n",
       "2022-03-30           19500.0     13990.0          12335.0  \n",
       "2022-03-31           19495.0     13855.0          12390.0  \n",
       "2022-04-01           19320.0     13720.0          12295.0  \n",
       "\n",
       "[2517 rows x 316 columns]"
      ],
      "text/html": [
       "<div>\n",
       "<style scoped>\n",
       "    .dataframe tbody tr th:only-of-type {\n",
       "        vertical-align: middle;\n",
       "    }\n",
       "\n",
       "    .dataframe tbody tr th {\n",
       "        vertical-align: top;\n",
       "    }\n",
       "\n",
       "    .dataframe thead th {\n",
       "        text-align: right;\n",
       "    }\n",
       "</style>\n",
       "<table border=\"1\" class=\"dataframe\">\n",
       "  <thead>\n",
       "    <tr style=\"text-align: right;\">\n",
       "      <th></th>\n",
       "      <th>ARIRANG 200</th>\n",
       "      <th>ARIRANG 200동일가중</th>\n",
       "      <th>ARIRANG 200선물레버리지</th>\n",
       "      <th>ARIRANG 200선물인버스2X</th>\n",
       "      <th>ARIRANG ESG가치주액티브</th>\n",
       "      <th>ARIRANG ESG성장주액티브</th>\n",
       "      <th>ARIRANG ESG우수기업</th>\n",
       "      <th>ARIRANG KRX300</th>\n",
       "      <th>ARIRANG KRX300헬스케어</th>\n",
       "      <th>ARIRANG KS로우볼가중TR</th>\n",
       "      <th>...</th>\n",
       "      <th>KODEX 코스피100</th>\n",
       "      <th>KODEX 코스피TR</th>\n",
       "      <th>KODEX 코스피대형주</th>\n",
       "      <th>KODEX 콩선물(H)</th>\n",
       "      <th>KODEX 퀄리티Plus</th>\n",
       "      <th>KODEX 탄소효율그린뉴딜</th>\n",
       "      <th>KODEX 필수소비재</th>\n",
       "      <th>KODEX 한국대만IT프리미어</th>\n",
       "      <th>KODEX 헬스케어</th>\n",
       "      <th>KODEX 혁신기술테마액티브</th>\n",
       "    </tr>\n",
       "    <tr>\n",
       "      <th>Date</th>\n",
       "      <th></th>\n",
       "      <th></th>\n",
       "      <th></th>\n",
       "      <th></th>\n",
       "      <th></th>\n",
       "      <th></th>\n",
       "      <th></th>\n",
       "      <th></th>\n",
       "      <th></th>\n",
       "      <th></th>\n",
       "      <th></th>\n",
       "      <th></th>\n",
       "      <th></th>\n",
       "      <th></th>\n",
       "      <th></th>\n",
       "      <th></th>\n",
       "      <th></th>\n",
       "      <th></th>\n",
       "      <th></th>\n",
       "      <th></th>\n",
       "      <th></th>\n",
       "    </tr>\n",
       "  </thead>\n",
       "  <tbody>\n",
       "    <tr>\n",
       "      <th>2012-01-10</th>\n",
       "      <td>20817</td>\n",
       "      <td>NaN</td>\n",
       "      <td>NaN</td>\n",
       "      <td>NaN</td>\n",
       "      <td>NaN</td>\n",
       "      <td>NaN</td>\n",
       "      <td>NaN</td>\n",
       "      <td>NaN</td>\n",
       "      <td>NaN</td>\n",
       "      <td>NaN</td>\n",
       "      <td>...</td>\n",
       "      <td>NaN</td>\n",
       "      <td>NaN</td>\n",
       "      <td>NaN</td>\n",
       "      <td>9030</td>\n",
       "      <td>NaN</td>\n",
       "      <td>NaN</td>\n",
       "      <td>NaN</td>\n",
       "      <td>NaN</td>\n",
       "      <td>NaN</td>\n",
       "      <td>NaN</td>\n",
       "    </tr>\n",
       "    <tr>\n",
       "      <th>2012-01-11</th>\n",
       "      <td>20695</td>\n",
       "      <td>NaN</td>\n",
       "      <td>NaN</td>\n",
       "      <td>NaN</td>\n",
       "      <td>NaN</td>\n",
       "      <td>NaN</td>\n",
       "      <td>NaN</td>\n",
       "      <td>NaN</td>\n",
       "      <td>NaN</td>\n",
       "      <td>NaN</td>\n",
       "      <td>...</td>\n",
       "      <td>NaN</td>\n",
       "      <td>NaN</td>\n",
       "      <td>NaN</td>\n",
       "      <td>9010</td>\n",
       "      <td>NaN</td>\n",
       "      <td>NaN</td>\n",
       "      <td>NaN</td>\n",
       "      <td>NaN</td>\n",
       "      <td>NaN</td>\n",
       "      <td>NaN</td>\n",
       "    </tr>\n",
       "    <tr>\n",
       "      <th>2012-01-12</th>\n",
       "      <td>20893</td>\n",
       "      <td>NaN</td>\n",
       "      <td>NaN</td>\n",
       "      <td>NaN</td>\n",
       "      <td>NaN</td>\n",
       "      <td>NaN</td>\n",
       "      <td>NaN</td>\n",
       "      <td>NaN</td>\n",
       "      <td>NaN</td>\n",
       "      <td>NaN</td>\n",
       "      <td>...</td>\n",
       "      <td>NaN</td>\n",
       "      <td>NaN</td>\n",
       "      <td>NaN</td>\n",
       "      <td>8835</td>\n",
       "      <td>NaN</td>\n",
       "      <td>NaN</td>\n",
       "      <td>NaN</td>\n",
       "      <td>NaN</td>\n",
       "      <td>NaN</td>\n",
       "      <td>NaN</td>\n",
       "    </tr>\n",
       "    <tr>\n",
       "      <th>2012-01-13</th>\n",
       "      <td>21042</td>\n",
       "      <td>NaN</td>\n",
       "      <td>NaN</td>\n",
       "      <td>NaN</td>\n",
       "      <td>NaN</td>\n",
       "      <td>NaN</td>\n",
       "      <td>NaN</td>\n",
       "      <td>NaN</td>\n",
       "      <td>NaN</td>\n",
       "      <td>NaN</td>\n",
       "      <td>...</td>\n",
       "      <td>NaN</td>\n",
       "      <td>NaN</td>\n",
       "      <td>NaN</td>\n",
       "      <td>8720</td>\n",
       "      <td>NaN</td>\n",
       "      <td>NaN</td>\n",
       "      <td>NaN</td>\n",
       "      <td>NaN</td>\n",
       "      <td>NaN</td>\n",
       "      <td>NaN</td>\n",
       "    </tr>\n",
       "    <tr>\n",
       "      <th>2012-01-16</th>\n",
       "      <td>20903</td>\n",
       "      <td>NaN</td>\n",
       "      <td>NaN</td>\n",
       "      <td>NaN</td>\n",
       "      <td>NaN</td>\n",
       "      <td>NaN</td>\n",
       "      <td>NaN</td>\n",
       "      <td>NaN</td>\n",
       "      <td>NaN</td>\n",
       "      <td>NaN</td>\n",
       "      <td>...</td>\n",
       "      <td>NaN</td>\n",
       "      <td>NaN</td>\n",
       "      <td>NaN</td>\n",
       "      <td>8510</td>\n",
       "      <td>NaN</td>\n",
       "      <td>NaN</td>\n",
       "      <td>NaN</td>\n",
       "      <td>NaN</td>\n",
       "      <td>NaN</td>\n",
       "      <td>NaN</td>\n",
       "    </tr>\n",
       "    <tr>\n",
       "      <th>...</th>\n",
       "      <td>...</td>\n",
       "      <td>...</td>\n",
       "      <td>...</td>\n",
       "      <td>...</td>\n",
       "      <td>...</td>\n",
       "      <td>...</td>\n",
       "      <td>...</td>\n",
       "      <td>...</td>\n",
       "      <td>...</td>\n",
       "      <td>...</td>\n",
       "      <td>...</td>\n",
       "      <td>...</td>\n",
       "      <td>...</td>\n",
       "      <td>...</td>\n",
       "      <td>...</td>\n",
       "      <td>...</td>\n",
       "      <td>...</td>\n",
       "      <td>...</td>\n",
       "      <td>...</td>\n",
       "      <td>...</td>\n",
       "      <td>...</td>\n",
       "    </tr>\n",
       "    <tr>\n",
       "      <th>2022-03-28</th>\n",
       "      <td>37440</td>\n",
       "      <td>10910.0</td>\n",
       "      <td>36140.0</td>\n",
       "      <td>5010.0</td>\n",
       "      <td>8930.0</td>\n",
       "      <td>8775.0</td>\n",
       "      <td>9400.0</td>\n",
       "      <td>16960.0</td>\n",
       "      <td>9450.0</td>\n",
       "      <td>13105.0</td>\n",
       "      <td>...</td>\n",
       "      <td>28150.0</td>\n",
       "      <td>12805.0</td>\n",
       "      <td>13035.0</td>\n",
       "      <td>14770</td>\n",
       "      <td>10120.0</td>\n",
       "      <td>8945.0</td>\n",
       "      <td>7865.0</td>\n",
       "      <td>19400.0</td>\n",
       "      <td>13680.0</td>\n",
       "      <td>12280.0</td>\n",
       "    </tr>\n",
       "    <tr>\n",
       "      <th>2022-03-29</th>\n",
       "      <td>37615</td>\n",
       "      <td>10905.0</td>\n",
       "      <td>36510.0</td>\n",
       "      <td>4955.0</td>\n",
       "      <td>8930.0</td>\n",
       "      <td>8820.0</td>\n",
       "      <td>9370.0</td>\n",
       "      <td>16990.0</td>\n",
       "      <td>9550.0</td>\n",
       "      <td>13160.0</td>\n",
       "      <td>...</td>\n",
       "      <td>28235.0</td>\n",
       "      <td>12860.0</td>\n",
       "      <td>13110.0</td>\n",
       "      <td>14465</td>\n",
       "      <td>10135.0</td>\n",
       "      <td>8985.0</td>\n",
       "      <td>7965.0</td>\n",
       "      <td>19385.0</td>\n",
       "      <td>13850.0</td>\n",
       "      <td>12260.0</td>\n",
       "    </tr>\n",
       "    <tr>\n",
       "      <th>2022-03-30</th>\n",
       "      <td>37780</td>\n",
       "      <td>10930.0</td>\n",
       "      <td>36810.0</td>\n",
       "      <td>4925.0</td>\n",
       "      <td>8975.0</td>\n",
       "      <td>8855.0</td>\n",
       "      <td>9310.0</td>\n",
       "      <td>17125.0</td>\n",
       "      <td>9660.0</td>\n",
       "      <td>13150.0</td>\n",
       "      <td>...</td>\n",
       "      <td>28340.0</td>\n",
       "      <td>12925.0</td>\n",
       "      <td>13185.0</td>\n",
       "      <td>14400</td>\n",
       "      <td>10195.0</td>\n",
       "      <td>9015.0</td>\n",
       "      <td>7965.0</td>\n",
       "      <td>19500.0</td>\n",
       "      <td>13990.0</td>\n",
       "      <td>12335.0</td>\n",
       "    </tr>\n",
       "    <tr>\n",
       "      <th>2022-03-31</th>\n",
       "      <td>37845</td>\n",
       "      <td>11035.0</td>\n",
       "      <td>37005.0</td>\n",
       "      <td>4870.0</td>\n",
       "      <td>9015.0</td>\n",
       "      <td>8880.0</td>\n",
       "      <td>9390.0</td>\n",
       "      <td>17180.0</td>\n",
       "      <td>9545.0</td>\n",
       "      <td>13230.0</td>\n",
       "      <td>...</td>\n",
       "      <td>28390.0</td>\n",
       "      <td>13000.0</td>\n",
       "      <td>13220.0</td>\n",
       "      <td>14405</td>\n",
       "      <td>10195.0</td>\n",
       "      <td>9075.0</td>\n",
       "      <td>7960.0</td>\n",
       "      <td>19495.0</td>\n",
       "      <td>13855.0</td>\n",
       "      <td>12390.0</td>\n",
       "    </tr>\n",
       "    <tr>\n",
       "      <th>2022-04-01</th>\n",
       "      <td>37580</td>\n",
       "      <td>11000.0</td>\n",
       "      <td>36525.0</td>\n",
       "      <td>4960.0</td>\n",
       "      <td>8940.0</td>\n",
       "      <td>8825.0</td>\n",
       "      <td>9400.0</td>\n",
       "      <td>17075.0</td>\n",
       "      <td>9415.0</td>\n",
       "      <td>13170.0</td>\n",
       "      <td>...</td>\n",
       "      <td>28285.0</td>\n",
       "      <td>12890.0</td>\n",
       "      <td>13105.0</td>\n",
       "      <td>13940</td>\n",
       "      <td>10200.0</td>\n",
       "      <td>9020.0</td>\n",
       "      <td>8115.0</td>\n",
       "      <td>19320.0</td>\n",
       "      <td>13720.0</td>\n",
       "      <td>12295.0</td>\n",
       "    </tr>\n",
       "  </tbody>\n",
       "</table>\n",
       "<p>2517 rows × 316 columns</p>\n",
       "</div>"
      ]
     },
     "execution_count": 2,
     "metadata": {},
     "output_type": "execute_result"
    }
   ],
   "execution_count": 2
  },
  {
   "metadata": {
    "ExecuteTime": {
     "end_time": "2024-12-17T06:07:20.160225Z",
     "start_time": "2024-12-17T06:07:20.155532Z"
    }
   },
   "cell_type": "code",
   "source": "df.index",
   "id": "8d592de3a8ee43e1",
   "outputs": [
    {
     "data": {
      "text/plain": [
       "DatetimeIndex(['2012-01-10', '2012-01-11', '2012-01-12', '2012-01-13',\n",
       "               '2012-01-16', '2012-01-17', '2012-01-18', '2012-01-19',\n",
       "               '2012-01-20', '2012-01-25',\n",
       "               ...\n",
       "               '2022-03-21', '2022-03-22', '2022-03-23', '2022-03-24',\n",
       "               '2022-03-25', '2022-03-28', '2022-03-29', '2022-03-30',\n",
       "               '2022-03-31', '2022-04-01'],\n",
       "              dtype='datetime64[ns]', name='Date', length=2517, freq=None)"
      ]
     },
     "execution_count": 3,
     "metadata": {},
     "output_type": "execute_result"
    }
   ],
   "execution_count": 3
  },
  {
   "metadata": {},
   "cell_type": "code",
   "outputs": [],
   "execution_count": null,
   "source": "",
   "id": "369b583a2f1a3c1"
  }
 ],
 "metadata": {
  "kernelspec": {
   "display_name": "Python 3",
   "language": "python",
   "name": "python3"
  },
  "language_info": {
   "codemirror_mode": {
    "name": "ipython",
    "version": 2
   },
   "file_extension": ".py",
   "mimetype": "text/x-python",
   "name": "python",
   "nbconvert_exporter": "python",
   "pygments_lexer": "ipython2",
   "version": "2.7.6"
  }
 },
 "nbformat": 4,
 "nbformat_minor": 5
}
