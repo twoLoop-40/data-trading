{
 "cells": [
  {
   "cell_type": "code",
   "id": "initial_id",
   "metadata": {
    "collapsed": true,
    "ExecuteTime": {
     "end_time": "2024-12-14T08:11:52.410116Z",
     "start_time": "2024-12-14T08:11:52.408131Z"
    }
   },
   "source": "from pandas.core import frame",
   "outputs": [],
   "execution_count": 7
  },
  {
   "metadata": {
    "ExecuteTime": {
     "end_time": "2024-12-14T09:13:58.107162Z",
     "start_time": "2024-12-14T09:13:58.104508Z"
    }
   },
   "cell_type": "code",
   "source": "from finance_fns import stock_data",
   "id": "3251c2a216a365dd",
   "outputs": [],
   "execution_count": 28
  },
  {
   "metadata": {
    "ExecuteTime": {
     "end_time": "2024-12-14T08:07:19.335633Z",
     "start_time": "2024-12-14T08:07:19.323202Z"
    }
   },
   "cell_type": "code",
   "source": [
    "naver_code = stock_data.find_code('NAVER')\n",
    "naver_code"
   ],
   "id": "edd7291796d70b60",
   "outputs": [
    {
     "data": {
      "text/plain": [
       "'035420'"
      ]
     },
     "execution_count": 4,
     "metadata": {},
     "output_type": "execute_result"
    }
   ],
   "execution_count": 4
  },
  {
   "metadata": {
    "ExecuteTime": {
     "end_time": "2024-12-14T08:08:33.871154Z",
     "start_time": "2024-12-14T08:08:33.635597Z"
    }
   },
   "cell_type": "code",
   "source": [
    "naver_close_df = stock_data.get_close_df(naver_code, start_date='2024-6')\n",
    "naver_close_df"
   ],
   "id": "add9929f4c44adb3",
   "outputs": [
    {
     "data": {
      "text/plain": [
       "             Close\n",
       "Date              \n",
       "2024-06-03  172700\n",
       "2024-06-04  176800\n",
       "2024-06-05  177100\n",
       "2024-06-07  175400\n",
       "2024-06-10  170700\n",
       "...            ...\n",
       "2024-12-09  201500\n",
       "2024-12-10  209000\n",
       "2024-12-11  218000\n",
       "2024-12-12  208000\n",
       "2024-12-13  210000\n",
       "\n",
       "[132 rows x 1 columns]"
      ],
      "text/html": [
       "<div>\n",
       "<style scoped>\n",
       "    .dataframe tbody tr th:only-of-type {\n",
       "        vertical-align: middle;\n",
       "    }\n",
       "\n",
       "    .dataframe tbody tr th {\n",
       "        vertical-align: top;\n",
       "    }\n",
       "\n",
       "    .dataframe thead th {\n",
       "        text-align: right;\n",
       "    }\n",
       "</style>\n",
       "<table border=\"1\" class=\"dataframe\">\n",
       "  <thead>\n",
       "    <tr style=\"text-align: right;\">\n",
       "      <th></th>\n",
       "      <th>Close</th>\n",
       "    </tr>\n",
       "    <tr>\n",
       "      <th>Date</th>\n",
       "      <th></th>\n",
       "    </tr>\n",
       "  </thead>\n",
       "  <tbody>\n",
       "    <tr>\n",
       "      <th>2024-06-03</th>\n",
       "      <td>172700</td>\n",
       "    </tr>\n",
       "    <tr>\n",
       "      <th>2024-06-04</th>\n",
       "      <td>176800</td>\n",
       "    </tr>\n",
       "    <tr>\n",
       "      <th>2024-06-05</th>\n",
       "      <td>177100</td>\n",
       "    </tr>\n",
       "    <tr>\n",
       "      <th>2024-06-07</th>\n",
       "      <td>175400</td>\n",
       "    </tr>\n",
       "    <tr>\n",
       "      <th>2024-06-10</th>\n",
       "      <td>170700</td>\n",
       "    </tr>\n",
       "    <tr>\n",
       "      <th>...</th>\n",
       "      <td>...</td>\n",
       "    </tr>\n",
       "    <tr>\n",
       "      <th>2024-12-09</th>\n",
       "      <td>201500</td>\n",
       "    </tr>\n",
       "    <tr>\n",
       "      <th>2024-12-10</th>\n",
       "      <td>209000</td>\n",
       "    </tr>\n",
       "    <tr>\n",
       "      <th>2024-12-11</th>\n",
       "      <td>218000</td>\n",
       "    </tr>\n",
       "    <tr>\n",
       "      <th>2024-12-12</th>\n",
       "      <td>208000</td>\n",
       "    </tr>\n",
       "    <tr>\n",
       "      <th>2024-12-13</th>\n",
       "      <td>210000</td>\n",
       "    </tr>\n",
       "  </tbody>\n",
       "</table>\n",
       "<p>132 rows × 1 columns</p>\n",
       "</div>"
      ]
     },
     "execution_count": 5,
     "metadata": {},
     "output_type": "execute_result"
    }
   ],
   "execution_count": 5
  },
  {
   "metadata": {
    "ExecuteTime": {
     "end_time": "2024-12-14T08:40:54.420973Z",
     "start_time": "2024-12-14T08:40:54.417724Z"
    }
   },
   "cell_type": "code",
   "source": [
    "def return_rate(df: frame.DataFrame) -> frame.DataFrame:\n",
    "    adder = stock_data.add_to_df(df)\n",
    "    adder('return', lambda df: df['Close'].pct_change().fillna(0))\n",
    "    adder('cum_return', lambda df: (1 + df['return']).cumprod())\n",
    "    adder('max_cum_return', lambda df: df['cum_return'].cummax())\n",
    "    new_df = adder('draw_down', lambda df: (df['cum_return'] / df['max_cum_return']) - 1)\n",
    "\n",
    "    return new_df\n"
   ],
   "id": "16c8e1b62576f8a1",
   "outputs": [],
   "execution_count": 16
  },
  {
   "metadata": {
    "ExecuteTime": {
     "end_time": "2024-12-14T08:40:55.214813Z",
     "start_time": "2024-12-14T08:40:55.207577Z"
    }
   },
   "cell_type": "code",
   "source": [
    "naver_return_df = return_rate(naver_close_df)\n",
    "naver_return_df"
   ],
   "id": "b609471b042e66dc",
   "outputs": [
    {
     "data": {
      "text/plain": [
       "             Close    return  cum_return  max_cum_return     draw_down\n",
       "Date                                                                  \n",
       "2024-06-03  172700  0.000000    1.000000        1.000000  0.000000e+00\n",
       "2024-06-04  176800  0.023741    1.023741        1.023741  0.000000e+00\n",
       "2024-06-05  177100  0.001697    1.025478        1.025478  0.000000e+00\n",
       "2024-06-07  175400 -0.009599    1.015634        1.025478 -9.599097e-03\n",
       "2024-06-10  170700 -0.026796    0.988419        1.025478 -3.613778e-02\n",
       "...            ...       ...         ...             ...           ...\n",
       "2024-12-09  201500 -0.014670    1.166763        1.210191 -3.588517e-02\n",
       "2024-12-10  209000  0.037221    1.210191        1.210191 -2.220446e-16\n",
       "2024-12-11  218000  0.043062    1.262305        1.262305  0.000000e+00\n",
       "2024-12-12  208000 -0.045872    1.204401        1.262305 -4.587156e-02\n",
       "2024-12-13  210000  0.009615    1.215981        1.262305 -3.669725e-02\n",
       "\n",
       "[132 rows x 5 columns]"
      ],
      "text/html": [
       "<div>\n",
       "<style scoped>\n",
       "    .dataframe tbody tr th:only-of-type {\n",
       "        vertical-align: middle;\n",
       "    }\n",
       "\n",
       "    .dataframe tbody tr th {\n",
       "        vertical-align: top;\n",
       "    }\n",
       "\n",
       "    .dataframe thead th {\n",
       "        text-align: right;\n",
       "    }\n",
       "</style>\n",
       "<table border=\"1\" class=\"dataframe\">\n",
       "  <thead>\n",
       "    <tr style=\"text-align: right;\">\n",
       "      <th></th>\n",
       "      <th>Close</th>\n",
       "      <th>return</th>\n",
       "      <th>cum_return</th>\n",
       "      <th>max_cum_return</th>\n",
       "      <th>draw_down</th>\n",
       "    </tr>\n",
       "    <tr>\n",
       "      <th>Date</th>\n",
       "      <th></th>\n",
       "      <th></th>\n",
       "      <th></th>\n",
       "      <th></th>\n",
       "      <th></th>\n",
       "    </tr>\n",
       "  </thead>\n",
       "  <tbody>\n",
       "    <tr>\n",
       "      <th>2024-06-03</th>\n",
       "      <td>172700</td>\n",
       "      <td>0.000000</td>\n",
       "      <td>1.000000</td>\n",
       "      <td>1.000000</td>\n",
       "      <td>0.000000e+00</td>\n",
       "    </tr>\n",
       "    <tr>\n",
       "      <th>2024-06-04</th>\n",
       "      <td>176800</td>\n",
       "      <td>0.023741</td>\n",
       "      <td>1.023741</td>\n",
       "      <td>1.023741</td>\n",
       "      <td>0.000000e+00</td>\n",
       "    </tr>\n",
       "    <tr>\n",
       "      <th>2024-06-05</th>\n",
       "      <td>177100</td>\n",
       "      <td>0.001697</td>\n",
       "      <td>1.025478</td>\n",
       "      <td>1.025478</td>\n",
       "      <td>0.000000e+00</td>\n",
       "    </tr>\n",
       "    <tr>\n",
       "      <th>2024-06-07</th>\n",
       "      <td>175400</td>\n",
       "      <td>-0.009599</td>\n",
       "      <td>1.015634</td>\n",
       "      <td>1.025478</td>\n",
       "      <td>-9.599097e-03</td>\n",
       "    </tr>\n",
       "    <tr>\n",
       "      <th>2024-06-10</th>\n",
       "      <td>170700</td>\n",
       "      <td>-0.026796</td>\n",
       "      <td>0.988419</td>\n",
       "      <td>1.025478</td>\n",
       "      <td>-3.613778e-02</td>\n",
       "    </tr>\n",
       "    <tr>\n",
       "      <th>...</th>\n",
       "      <td>...</td>\n",
       "      <td>...</td>\n",
       "      <td>...</td>\n",
       "      <td>...</td>\n",
       "      <td>...</td>\n",
       "    </tr>\n",
       "    <tr>\n",
       "      <th>2024-12-09</th>\n",
       "      <td>201500</td>\n",
       "      <td>-0.014670</td>\n",
       "      <td>1.166763</td>\n",
       "      <td>1.210191</td>\n",
       "      <td>-3.588517e-02</td>\n",
       "    </tr>\n",
       "    <tr>\n",
       "      <th>2024-12-10</th>\n",
       "      <td>209000</td>\n",
       "      <td>0.037221</td>\n",
       "      <td>1.210191</td>\n",
       "      <td>1.210191</td>\n",
       "      <td>-2.220446e-16</td>\n",
       "    </tr>\n",
       "    <tr>\n",
       "      <th>2024-12-11</th>\n",
       "      <td>218000</td>\n",
       "      <td>0.043062</td>\n",
       "      <td>1.262305</td>\n",
       "      <td>1.262305</td>\n",
       "      <td>0.000000e+00</td>\n",
       "    </tr>\n",
       "    <tr>\n",
       "      <th>2024-12-12</th>\n",
       "      <td>208000</td>\n",
       "      <td>-0.045872</td>\n",
       "      <td>1.204401</td>\n",
       "      <td>1.262305</td>\n",
       "      <td>-4.587156e-02</td>\n",
       "    </tr>\n",
       "    <tr>\n",
       "      <th>2024-12-13</th>\n",
       "      <td>210000</td>\n",
       "      <td>0.009615</td>\n",
       "      <td>1.215981</td>\n",
       "      <td>1.262305</td>\n",
       "      <td>-3.669725e-02</td>\n",
       "    </tr>\n",
       "  </tbody>\n",
       "</table>\n",
       "<p>132 rows × 5 columns</p>\n",
       "</div>"
      ]
     },
     "execution_count": 17,
     "metadata": {},
     "output_type": "execute_result"
    }
   ],
   "execution_count": 17
  },
  {
   "metadata": {
    "ExecuteTime": {
     "end_time": "2024-12-14T08:42:42.287375Z",
     "start_time": "2024-12-14T08:42:42.284541Z"
    }
   },
   "cell_type": "code",
   "source": "print(naver_return_df['draw_down'].min())",
   "id": "ce3186b7075ee2b7",
   "outputs": [
    {
     "name": "stdout",
     "output_type": "stream",
     "text": [
      "-0.12921348314606695\n"
     ]
    }
   ],
   "execution_count": 18
  },
  {
   "metadata": {
    "ExecuteTime": {
     "end_time": "2024-12-14T08:44:52.228724Z",
     "start_time": "2024-12-14T08:44:51.582717Z"
    }
   },
   "cell_type": "code",
   "source": "naver_return_df['draw_down'].plot()",
   "id": "519eac8dc748fbb3",
   "outputs": [
    {
     "data": {
      "text/plain": [
       "<Axes: xlabel='Date'>"
      ]
     },
     "execution_count": 20,
     "metadata": {},
     "output_type": "execute_result"
    },
    {
     "data": {
      "text/plain": [
       "<Figure size 640x480 with 1 Axes>"
      ],
      "image/png": "[encoded data removed]"
     },
     "metadata": {},
     "output_type": "display_data"
    }
   ],
   "execution_count": 20
  },
  {
   "metadata": {
    "ExecuteTime": {
     "end_time": "2024-12-14T09:04:07.028381Z",
     "start_time": "2024-12-14T09:04:07.024368Z"
    }
   },
   "cell_type": "code",
   "source": [
    "# 최저가\n",
    "min_close_value = naver_return_df['Close'].min()\n",
    "\n",
    "# 최저가 날짜\n",
    "min_date = naver_return_df['Close'].idxmin()\n",
    "print(f'{min_date=}, {min_close_value=}')\n",
    "\n",
    "# 최고가\n",
    "max_close_value = naver_return_df['Close'].max()\n",
    "\n",
    "# 최고가 날짜\n",
    "max_date = naver_return_df['Close'].idxmax()\n",
    "\n",
    "print(f'{max_date=}, {max_close_value=}')\n"
   ],
   "id": "7b9698b4a65a8b9f",
   "outputs": [
    {
     "name": "stdout",
     "output_type": "stream",
     "text": [
      "min_date=Timestamp('2024-09-09 00:00:00'), min_close_value=np.int64(155000)\n",
      "max_date=Timestamp('2024-12-11 00:00:00'), max_close_value=np.int64(218000)\n"
     ]
    }
   ],
   "execution_count": 23
  },
  {
   "metadata": {
    "ExecuteTime": {
     "end_time": "2024-12-14T09:14:24.937662Z",
     "start_time": "2024-12-14T09:14:24.934572Z"
    }
   },
   "cell_type": "code",
   "source": [
    "mdd = naver_return_df['draw_down'].min()\n",
    "mdd"
   ],
   "id": "ad3dc98d9fc55043",
   "outputs": [
    {
     "data": {
      "text/plain": [
       "np.float64(-0.12921348314606695)"
      ]
     },
     "execution_count": 31,
     "metadata": {},
     "output_type": "execute_result"
    }
   ],
   "execution_count": 31
  },
  {
   "metadata": {
    "ExecuteTime": {
     "end_time": "2024-12-14T09:14:25.337211Z",
     "start_time": "2024-12-14T09:14:25.329583Z"
    }
   },
   "cell_type": "code",
   "source": "cond_df = stock_data.get_filtered_df(naver_return_df)",
   "id": "3d8bbaaaaa8f11a0",
   "outputs": [
    {
     "ename": "AttributeError",
     "evalue": "module 'finance_fns.stock_data' has no attribute 'get_filtered_df'",
     "output_type": "error",
     "traceback": [
      "\u001B[0;31m---------------------------------------------------------------------------\u001B[0m",
      "\u001B[0;31mAttributeError\u001B[0m                            Traceback (most recent call last)",
      "Cell \u001B[0;32mIn[32], line 1\u001B[0m\n\u001B[0;32m----> 1\u001B[0m cond_df \u001B[38;5;241m=\u001B[39m \u001B[43mstock_data\u001B[49m\u001B[38;5;241;43m.\u001B[39;49m\u001B[43mget_filtered_df\u001B[49m(naver_return_df)\n",
      "\u001B[0;31mAttributeError\u001B[0m: module 'finance_fns.stock_data' has no attribute 'get_filtered_df'"
     ]
    }
   ],
   "execution_count": 32
  },
  {
   "metadata": {},
   "cell_type": "code",
   "outputs": [],
   "execution_count": null,
   "source": "",
   "id": "c5e16b11e504c7ae"
  }
 ],
 "metadata": {
  "kernelspec": {
   "display_name": "Python 3",
   "language": "python",
   "name": "python3"
  },
  "language_info": {
   "codemirror_mode": {
    "name": "ipython",
    "version": 2
   },
   "file_extension": ".py",
   "mimetype": "text/x-python",
   "name": "python",
   "nbconvert_exporter": "python",
   "pygments_lexer": "ipython2",
   "version": "2.7.6"
  }
 },
 "nbformat": 4,
 "nbformat_minor": 5
}
